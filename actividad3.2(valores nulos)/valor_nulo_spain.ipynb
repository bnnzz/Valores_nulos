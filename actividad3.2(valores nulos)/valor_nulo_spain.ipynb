{
 "cells": [
  {
   "cell_type": "code",
   "execution_count": 1,
   "metadata": {},
   "outputs": [],
   "source": [
    "import pandas as pd\n",
    "import numpy as np\n",
    "import matplotlib.pyplot as plt\n",
    "import seaborn as sns "
   ]
  },
  {
   "cell_type": "code",
   "execution_count": 2,
   "metadata": {},
   "outputs": [
    {
     "data": {
      "text/html": [
       "<div>\n",
       "<style scoped>\n",
       "    .dataframe tbody tr th:only-of-type {\n",
       "        vertical-align: middle;\n",
       "    }\n",
       "\n",
       "    .dataframe tbody tr th {\n",
       "        vertical-align: top;\n",
       "    }\n",
       "\n",
       "    .dataframe thead th {\n",
       "        text-align: right;\n",
       "    }\n",
       "</style>\n",
       "<table border=\"1\" class=\"dataframe\">\n",
       "  <thead>\n",
       "    <tr style=\"text-align: right;\">\n",
       "      <th></th>\n",
       "      <th>id</th>\n",
       "      <th>listing_url</th>\n",
       "      <th>scrape_id</th>\n",
       "      <th>last_scraped</th>\n",
       "      <th>source</th>\n",
       "      <th>name</th>\n",
       "      <th>description</th>\n",
       "      <th>neighborhood_overview</th>\n",
       "      <th>picture_url</th>\n",
       "      <th>host_id</th>\n",
       "      <th>...</th>\n",
       "      <th>review_scores_communication</th>\n",
       "      <th>review_scores_location</th>\n",
       "      <th>review_scores_value</th>\n",
       "      <th>license</th>\n",
       "      <th>instant_bookable</th>\n",
       "      <th>calculated_host_listings_count</th>\n",
       "      <th>calculated_host_listings_count_entire_homes</th>\n",
       "      <th>calculated_host_listings_count_private_rooms</th>\n",
       "      <th>calculated_host_listings_count_shared_rooms</th>\n",
       "      <th>reviews_per_month</th>\n",
       "    </tr>\n",
       "  </thead>\n",
       "  <tbody>\n",
       "    <tr>\n",
       "      <th>0</th>\n",
       "      <td>44085</td>\n",
       "      <td>https://www.airbnb.com/rooms/44085</td>\n",
       "      <td>20240929225618</td>\n",
       "      <td>2024-09-30</td>\n",
       "      <td>city scrape</td>\n",
       "      <td>Villa in Addaia great sea view and fun pool</td>\n",
       "      <td>Best view ever on the bay of Port d'Addaia and...</td>\n",
       "      <td>NaN</td>\n",
       "      <td>https://a0.muscache.com/pictures/1ea5fde7-3686...</td>\n",
       "      <td>193043</td>\n",
       "      <td>...</td>\n",
       "      <td>4.86</td>\n",
       "      <td>4.75</td>\n",
       "      <td>4.30</td>\n",
       "      <td>ET3036ME</td>\n",
       "      <td>f</td>\n",
       "      <td>3</td>\n",
       "      <td>3</td>\n",
       "      <td>0</td>\n",
       "      <td>0</td>\n",
       "      <td>0.14</td>\n",
       "    </tr>\n",
       "    <tr>\n",
       "      <th>1</th>\n",
       "      <td>102558</td>\n",
       "      <td>https://www.airbnb.com/rooms/102558</td>\n",
       "      <td>20240929225618</td>\n",
       "      <td>2024-09-30</td>\n",
       "      <td>city scrape</td>\n",
       "      <td>appartment in Menorca -Cala Galdana</td>\n",
       "      <td>NaN</td>\n",
       "      <td>NaN</td>\n",
       "      <td>https://a0.muscache.com/pictures/23614875/ac08...</td>\n",
       "      <td>536023</td>\n",
       "      <td>...</td>\n",
       "      <td>4.89</td>\n",
       "      <td>4.77</td>\n",
       "      <td>4.51</td>\n",
       "      <td>ET2253ME</td>\n",
       "      <td>f</td>\n",
       "      <td>1</td>\n",
       "      <td>1</td>\n",
       "      <td>0</td>\n",
       "      <td>0</td>\n",
       "      <td>0.40</td>\n",
       "    </tr>\n",
       "    <tr>\n",
       "      <th>2</th>\n",
       "      <td>294398</td>\n",
       "      <td>https://www.airbnb.com/rooms/294398</td>\n",
       "      <td>20240929225618</td>\n",
       "      <td>2024-09-30</td>\n",
       "      <td>city scrape</td>\n",
       "      <td>Son Esquella - Charming Menorca</td>\n",
       "      <td>Beautiful Menorcan farmhouse for 17 people.</td>\n",
       "      <td>NaN</td>\n",
       "      <td>https://a0.muscache.com/pictures/miso/Hosting-...</td>\n",
       "      <td>312145</td>\n",
       "      <td>...</td>\n",
       "      <td>4.91</td>\n",
       "      <td>4.50</td>\n",
       "      <td>4.40</td>\n",
       "      <td>NaN</td>\n",
       "      <td>f</td>\n",
       "      <td>3</td>\n",
       "      <td>3</td>\n",
       "      <td>0</td>\n",
       "      <td>0</td>\n",
       "      <td>0.10</td>\n",
       "    </tr>\n",
       "    <tr>\n",
       "      <th>3</th>\n",
       "      <td>295705</td>\n",
       "      <td>https://www.airbnb.com/rooms/295705</td>\n",
       "      <td>20240929225618</td>\n",
       "      <td>2024-09-30</td>\n",
       "      <td>city scrape</td>\n",
       "      <td>The Most Perfect Villa in Menorca!</td>\n",
       "      <td>Binisegarra is a beautiful villa near Cala Emp...</td>\n",
       "      <td>NaN</td>\n",
       "      <td>https://a0.muscache.com/pictures/miso/Hosting-...</td>\n",
       "      <td>312145</td>\n",
       "      <td>...</td>\n",
       "      <td>4.78</td>\n",
       "      <td>4.70</td>\n",
       "      <td>4.57</td>\n",
       "      <td>NaN</td>\n",
       "      <td>f</td>\n",
       "      <td>3</td>\n",
       "      <td>3</td>\n",
       "      <td>0</td>\n",
       "      <td>0</td>\n",
       "      <td>0.16</td>\n",
       "    </tr>\n",
       "    <tr>\n",
       "      <th>4</th>\n",
       "      <td>357026</td>\n",
       "      <td>https://www.airbnb.com/rooms/357026</td>\n",
       "      <td>20240929225618</td>\n",
       "      <td>2024-09-30</td>\n",
       "      <td>city scrape</td>\n",
       "      <td>Coqueto apartamento Son Bou Menorca + Rent our...</td>\n",
       "      <td>NaN</td>\n",
       "      <td>NaN</td>\n",
       "      <td>https://a0.muscache.com/pictures/7506410/6f94b...</td>\n",
       "      <td>1740878</td>\n",
       "      <td>...</td>\n",
       "      <td>5.00</td>\n",
       "      <td>4.94</td>\n",
       "      <td>4.91</td>\n",
       "      <td>Licencia San Jaume Zona 5 APM-1880</td>\n",
       "      <td>f</td>\n",
       "      <td>1</td>\n",
       "      <td>1</td>\n",
       "      <td>0</td>\n",
       "      <td>0</td>\n",
       "      <td>0.53</td>\n",
       "    </tr>\n",
       "  </tbody>\n",
       "</table>\n",
       "<p>5 rows × 75 columns</p>\n",
       "</div>"
      ],
      "text/plain": [
       "       id                          listing_url       scrape_id last_scraped  \\\n",
       "0   44085   https://www.airbnb.com/rooms/44085  20240929225618   2024-09-30   \n",
       "1  102558  https://www.airbnb.com/rooms/102558  20240929225618   2024-09-30   \n",
       "2  294398  https://www.airbnb.com/rooms/294398  20240929225618   2024-09-30   \n",
       "3  295705  https://www.airbnb.com/rooms/295705  20240929225618   2024-09-30   \n",
       "4  357026  https://www.airbnb.com/rooms/357026  20240929225618   2024-09-30   \n",
       "\n",
       "        source                                               name  \\\n",
       "0  city scrape        Villa in Addaia great sea view and fun pool   \n",
       "1  city scrape                appartment in Menorca -Cala Galdana   \n",
       "2  city scrape                    Son Esquella - Charming Menorca   \n",
       "3  city scrape                 The Most Perfect Villa in Menorca!   \n",
       "4  city scrape  Coqueto apartamento Son Bou Menorca + Rent our...   \n",
       "\n",
       "                                         description neighborhood_overview  \\\n",
       "0  Best view ever on the bay of Port d'Addaia and...                   NaN   \n",
       "1                                                NaN                   NaN   \n",
       "2        Beautiful Menorcan farmhouse for 17 people.                   NaN   \n",
       "3  Binisegarra is a beautiful villa near Cala Emp...                   NaN   \n",
       "4                                                NaN                   NaN   \n",
       "\n",
       "                                         picture_url  host_id  ...  \\\n",
       "0  https://a0.muscache.com/pictures/1ea5fde7-3686...   193043  ...   \n",
       "1  https://a0.muscache.com/pictures/23614875/ac08...   536023  ...   \n",
       "2  https://a0.muscache.com/pictures/miso/Hosting-...   312145  ...   \n",
       "3  https://a0.muscache.com/pictures/miso/Hosting-...   312145  ...   \n",
       "4  https://a0.muscache.com/pictures/7506410/6f94b...  1740878  ...   \n",
       "\n",
       "  review_scores_communication review_scores_location review_scores_value  \\\n",
       "0                        4.86                   4.75                4.30   \n",
       "1                        4.89                   4.77                4.51   \n",
       "2                        4.91                   4.50                4.40   \n",
       "3                        4.78                   4.70                4.57   \n",
       "4                        5.00                   4.94                4.91   \n",
       "\n",
       "                              license instant_bookable  \\\n",
       "0                            ET3036ME                f   \n",
       "1                            ET2253ME                f   \n",
       "2                                 NaN                f   \n",
       "3                                 NaN                f   \n",
       "4  Licencia San Jaume Zona 5 APM-1880                f   \n",
       "\n",
       "  calculated_host_listings_count calculated_host_listings_count_entire_homes  \\\n",
       "0                              3                                           3   \n",
       "1                              1                                           1   \n",
       "2                              3                                           3   \n",
       "3                              3                                           3   \n",
       "4                              1                                           1   \n",
       "\n",
       "  calculated_host_listings_count_private_rooms  \\\n",
       "0                                            0   \n",
       "1                                            0   \n",
       "2                                            0   \n",
       "3                                            0   \n",
       "4                                            0   \n",
       "\n",
       "  calculated_host_listings_count_shared_rooms reviews_per_month  \n",
       "0                                           0              0.14  \n",
       "1                                           0              0.40  \n",
       "2                                           0              0.10  \n",
       "3                                           0              0.16  \n",
       "4                                           0              0.53  \n",
       "\n",
       "[5 rows x 75 columns]"
      ]
     },
     "execution_count": 2,
     "metadata": {},
     "output_type": "execute_result"
    }
   ],
   "source": [
    "data = pd.read_csv('spain_menorca.csv')\n",
    "data.head(5)"
   ]
  },
  {
   "cell_type": "code",
   "execution_count": 19,
   "metadata": {},
   "outputs": [
    {
     "data": {
      "text/html": [
       "<div>\n",
       "<style scoped>\n",
       "    .dataframe tbody tr th:only-of-type {\n",
       "        vertical-align: middle;\n",
       "    }\n",
       "\n",
       "    .dataframe tbody tr th {\n",
       "        vertical-align: top;\n",
       "    }\n",
       "\n",
       "    .dataframe thead th {\n",
       "        text-align: right;\n",
       "    }\n",
       "</style>\n",
       "<table border=\"1\" class=\"dataframe\">\n",
       "  <thead>\n",
       "    <tr style=\"text-align: right;\">\n",
       "      <th></th>\n",
       "      <th>id</th>\n",
       "      <th>last_scraped</th>\n",
       "      <th>host_id</th>\n",
       "      <th>host_name</th>\n",
       "      <th>host_since</th>\n",
       "      <th>host_location</th>\n",
       "      <th>host_response_time</th>\n",
       "      <th>host_response_rate</th>\n",
       "      <th>host_acceptance_rate</th>\n",
       "      <th>host_is_superhost</th>\n",
       "      <th>...</th>\n",
       "      <th>review_scores_accuracy</th>\n",
       "      <th>review_scores_cleanliness</th>\n",
       "      <th>review_scores_checkin</th>\n",
       "      <th>review_scores_location</th>\n",
       "      <th>license</th>\n",
       "      <th>instant_bookable</th>\n",
       "      <th>calculated_host_listings_count_entire_homes</th>\n",
       "      <th>calculated_host_listings_count_private_rooms</th>\n",
       "      <th>calculated_host_listings_count_shared_rooms</th>\n",
       "      <th>reviews_per_month</th>\n",
       "    </tr>\n",
       "  </thead>\n",
       "  <tbody>\n",
       "    <tr>\n",
       "      <th>0</th>\n",
       "      <td>44085</td>\n",
       "      <td>2024-09-30</td>\n",
       "      <td>193043</td>\n",
       "      <td>Manuela</td>\n",
       "      <td>2010-08-06</td>\n",
       "      <td>Sant Lluís, Spain</td>\n",
       "      <td>within an hour</td>\n",
       "      <td>100%</td>\n",
       "      <td>100%</td>\n",
       "      <td>t</td>\n",
       "      <td>...</td>\n",
       "      <td>4.76</td>\n",
       "      <td>4.62</td>\n",
       "      <td>4.75</td>\n",
       "      <td>4.75</td>\n",
       "      <td>ET3036ME</td>\n",
       "      <td>f</td>\n",
       "      <td>3</td>\n",
       "      <td>0</td>\n",
       "      <td>0</td>\n",
       "      <td>0.14</td>\n",
       "    </tr>\n",
       "    <tr>\n",
       "      <th>1</th>\n",
       "      <td>102558</td>\n",
       "      <td>2024-09-30</td>\n",
       "      <td>536023</td>\n",
       "      <td>Yolanda</td>\n",
       "      <td>2011-04-26</td>\n",
       "      <td>Barcelona, Spain</td>\n",
       "      <td>within a few hours</td>\n",
       "      <td>100%</td>\n",
       "      <td>94%</td>\n",
       "      <td>f</td>\n",
       "      <td>...</td>\n",
       "      <td>4.77</td>\n",
       "      <td>4.68</td>\n",
       "      <td>4.75</td>\n",
       "      <td>4.77</td>\n",
       "      <td>ET2253ME</td>\n",
       "      <td>f</td>\n",
       "      <td>1</td>\n",
       "      <td>0</td>\n",
       "      <td>0</td>\n",
       "      <td>0.40</td>\n",
       "    </tr>\n",
       "    <tr>\n",
       "      <th>2</th>\n",
       "      <td>294398</td>\n",
       "      <td>2024-09-30</td>\n",
       "      <td>312145</td>\n",
       "      <td>Natalia</td>\n",
       "      <td>2010-12-07</td>\n",
       "      <td>Madrid, Spain</td>\n",
       "      <td>a few days or more</td>\n",
       "      <td>20%</td>\n",
       "      <td>0%</td>\n",
       "      <td>f</td>\n",
       "      <td>...</td>\n",
       "      <td>4.45</td>\n",
       "      <td>4.27</td>\n",
       "      <td>4.50</td>\n",
       "      <td>4.50</td>\n",
       "      <td>NaN</td>\n",
       "      <td>f</td>\n",
       "      <td>3</td>\n",
       "      <td>0</td>\n",
       "      <td>0</td>\n",
       "      <td>0.10</td>\n",
       "    </tr>\n",
       "    <tr>\n",
       "      <th>3</th>\n",
       "      <td>295705</td>\n",
       "      <td>2024-09-30</td>\n",
       "      <td>312145</td>\n",
       "      <td>Natalia</td>\n",
       "      <td>2010-12-07</td>\n",
       "      <td>Madrid, Spain</td>\n",
       "      <td>a few days or more</td>\n",
       "      <td>20%</td>\n",
       "      <td>0%</td>\n",
       "      <td>f</td>\n",
       "      <td>...</td>\n",
       "      <td>4.79</td>\n",
       "      <td>4.54</td>\n",
       "      <td>4.65</td>\n",
       "      <td>4.70</td>\n",
       "      <td>NaN</td>\n",
       "      <td>f</td>\n",
       "      <td>3</td>\n",
       "      <td>0</td>\n",
       "      <td>0</td>\n",
       "      <td>0.16</td>\n",
       "    </tr>\n",
       "    <tr>\n",
       "      <th>4</th>\n",
       "      <td>357026</td>\n",
       "      <td>2024-09-30</td>\n",
       "      <td>1740878</td>\n",
       "      <td>Emilio</td>\n",
       "      <td>2012-02-12</td>\n",
       "      <td>Torrent, Spain</td>\n",
       "      <td>within an hour</td>\n",
       "      <td>100%</td>\n",
       "      <td>83%</td>\n",
       "      <td>t</td>\n",
       "      <td>...</td>\n",
       "      <td>4.96</td>\n",
       "      <td>4.99</td>\n",
       "      <td>4.95</td>\n",
       "      <td>4.94</td>\n",
       "      <td>Licencia San Jaume Zona 5 APM-1880</td>\n",
       "      <td>f</td>\n",
       "      <td>1</td>\n",
       "      <td>0</td>\n",
       "      <td>0</td>\n",
       "      <td>0.53</td>\n",
       "    </tr>\n",
       "    <tr>\n",
       "      <th>...</th>\n",
       "      <td>...</td>\n",
       "      <td>...</td>\n",
       "      <td>...</td>\n",
       "      <td>...</td>\n",
       "      <td>...</td>\n",
       "      <td>...</td>\n",
       "      <td>...</td>\n",
       "      <td>...</td>\n",
       "      <td>...</td>\n",
       "      <td>...</td>\n",
       "      <td>...</td>\n",
       "      <td>...</td>\n",
       "      <td>...</td>\n",
       "      <td>...</td>\n",
       "      <td>...</td>\n",
       "      <td>...</td>\n",
       "      <td>...</td>\n",
       "      <td>...</td>\n",
       "      <td>...</td>\n",
       "      <td>...</td>\n",
       "      <td>...</td>\n",
       "    </tr>\n",
       "    <tr>\n",
       "      <th>3940</th>\n",
       "      <td>1255100873732921389</td>\n",
       "      <td>2024-09-30</td>\n",
       "      <td>577475733</td>\n",
       "      <td>Bahira</td>\n",
       "      <td>2024-05-14</td>\n",
       "      <td>NaN</td>\n",
       "      <td>NaN</td>\n",
       "      <td>NaN</td>\n",
       "      <td>NaN</td>\n",
       "      <td>f</td>\n",
       "      <td>...</td>\n",
       "      <td>NaN</td>\n",
       "      <td>NaN</td>\n",
       "      <td>NaN</td>\n",
       "      <td>NaN</td>\n",
       "      <td>ET 1607 ME</td>\n",
       "      <td>t</td>\n",
       "      <td>8</td>\n",
       "      <td>0</td>\n",
       "      <td>0</td>\n",
       "      <td>NaN</td>\n",
       "    </tr>\n",
       "    <tr>\n",
       "      <th>3941</th>\n",
       "      <td>1255101910775870026</td>\n",
       "      <td>2024-09-30</td>\n",
       "      <td>577475733</td>\n",
       "      <td>Bahira</td>\n",
       "      <td>2024-05-14</td>\n",
       "      <td>NaN</td>\n",
       "      <td>NaN</td>\n",
       "      <td>NaN</td>\n",
       "      <td>NaN</td>\n",
       "      <td>f</td>\n",
       "      <td>...</td>\n",
       "      <td>NaN</td>\n",
       "      <td>NaN</td>\n",
       "      <td>NaN</td>\n",
       "      <td>NaN</td>\n",
       "      <td>HT 051 ME</td>\n",
       "      <td>t</td>\n",
       "      <td>8</td>\n",
       "      <td>0</td>\n",
       "      <td>0</td>\n",
       "      <td>NaN</td>\n",
       "    </tr>\n",
       "    <tr>\n",
       "      <th>3942</th>\n",
       "      <td>1255102197800461076</td>\n",
       "      <td>2024-09-30</td>\n",
       "      <td>577475733</td>\n",
       "      <td>Bahira</td>\n",
       "      <td>2024-05-14</td>\n",
       "      <td>NaN</td>\n",
       "      <td>NaN</td>\n",
       "      <td>NaN</td>\n",
       "      <td>NaN</td>\n",
       "      <td>f</td>\n",
       "      <td>...</td>\n",
       "      <td>NaN</td>\n",
       "      <td>NaN</td>\n",
       "      <td>NaN</td>\n",
       "      <td>NaN</td>\n",
       "      <td>ET/184</td>\n",
       "      <td>t</td>\n",
       "      <td>8</td>\n",
       "      <td>0</td>\n",
       "      <td>0</td>\n",
       "      <td>NaN</td>\n",
       "    </tr>\n",
       "    <tr>\n",
       "      <th>3943</th>\n",
       "      <td>1255103450481866634</td>\n",
       "      <td>2024-09-30</td>\n",
       "      <td>577475733</td>\n",
       "      <td>Bahira</td>\n",
       "      <td>2024-05-14</td>\n",
       "      <td>NaN</td>\n",
       "      <td>NaN</td>\n",
       "      <td>NaN</td>\n",
       "      <td>NaN</td>\n",
       "      <td>f</td>\n",
       "      <td>...</td>\n",
       "      <td>NaN</td>\n",
       "      <td>NaN</td>\n",
       "      <td>NaN</td>\n",
       "      <td>NaN</td>\n",
       "      <td>HT 044 ME</td>\n",
       "      <td>t</td>\n",
       "      <td>8</td>\n",
       "      <td>0</td>\n",
       "      <td>0</td>\n",
       "      <td>NaN</td>\n",
       "    </tr>\n",
       "    <tr>\n",
       "      <th>3944</th>\n",
       "      <td>1255523037205321777</td>\n",
       "      <td>2024-09-30</td>\n",
       "      <td>549699849</td>\n",
       "      <td>Holidu</td>\n",
       "      <td>2023-12-06</td>\n",
       "      <td>Madrid, Spain</td>\n",
       "      <td>within an hour</td>\n",
       "      <td>100%</td>\n",
       "      <td>99%</td>\n",
       "      <td>f</td>\n",
       "      <td>...</td>\n",
       "      <td>NaN</td>\n",
       "      <td>NaN</td>\n",
       "      <td>NaN</td>\n",
       "      <td>NaN</td>\n",
       "      <td>ET1100ME</td>\n",
       "      <td>t</td>\n",
       "      <td>7</td>\n",
       "      <td>0</td>\n",
       "      <td>0</td>\n",
       "      <td>NaN</td>\n",
       "    </tr>\n",
       "  </tbody>\n",
       "</table>\n",
       "<p>3945 rows × 50 columns</p>\n",
       "</div>"
      ],
      "text/plain": [
       "                       id last_scraped    host_id host_name  host_since  \\\n",
       "0                   44085   2024-09-30     193043   Manuela  2010-08-06   \n",
       "1                  102558   2024-09-30     536023   Yolanda  2011-04-26   \n",
       "2                  294398   2024-09-30     312145   Natalia  2010-12-07   \n",
       "3                  295705   2024-09-30     312145   Natalia  2010-12-07   \n",
       "4                  357026   2024-09-30    1740878    Emilio  2012-02-12   \n",
       "...                   ...          ...        ...       ...         ...   \n",
       "3940  1255100873732921389   2024-09-30  577475733    Bahira  2024-05-14   \n",
       "3941  1255101910775870026   2024-09-30  577475733    Bahira  2024-05-14   \n",
       "3942  1255102197800461076   2024-09-30  577475733    Bahira  2024-05-14   \n",
       "3943  1255103450481866634   2024-09-30  577475733    Bahira  2024-05-14   \n",
       "3944  1255523037205321777   2024-09-30  549699849    Holidu  2023-12-06   \n",
       "\n",
       "          host_location  host_response_time host_response_rate  \\\n",
       "0     Sant Lluís, Spain      within an hour               100%   \n",
       "1      Barcelona, Spain  within a few hours               100%   \n",
       "2         Madrid, Spain  a few days or more                20%   \n",
       "3         Madrid, Spain  a few days or more                20%   \n",
       "4        Torrent, Spain      within an hour               100%   \n",
       "...                 ...                 ...                ...   \n",
       "3940                NaN                 NaN                NaN   \n",
       "3941                NaN                 NaN                NaN   \n",
       "3942                NaN                 NaN                NaN   \n",
       "3943                NaN                 NaN                NaN   \n",
       "3944      Madrid, Spain      within an hour               100%   \n",
       "\n",
       "     host_acceptance_rate host_is_superhost  ...  review_scores_accuracy  \\\n",
       "0                    100%                 t  ...                    4.76   \n",
       "1                     94%                 f  ...                    4.77   \n",
       "2                      0%                 f  ...                    4.45   \n",
       "3                      0%                 f  ...                    4.79   \n",
       "4                     83%                 t  ...                    4.96   \n",
       "...                   ...               ...  ...                     ...   \n",
       "3940                  NaN                 f  ...                     NaN   \n",
       "3941                  NaN                 f  ...                     NaN   \n",
       "3942                  NaN                 f  ...                     NaN   \n",
       "3943                  NaN                 f  ...                     NaN   \n",
       "3944                  99%                 f  ...                     NaN   \n",
       "\n",
       "      review_scores_cleanliness review_scores_checkin review_scores_location  \\\n",
       "0                          4.62                  4.75                   4.75   \n",
       "1                          4.68                  4.75                   4.77   \n",
       "2                          4.27                  4.50                   4.50   \n",
       "3                          4.54                  4.65                   4.70   \n",
       "4                          4.99                  4.95                   4.94   \n",
       "...                         ...                   ...                    ...   \n",
       "3940                        NaN                   NaN                    NaN   \n",
       "3941                        NaN                   NaN                    NaN   \n",
       "3942                        NaN                   NaN                    NaN   \n",
       "3943                        NaN                   NaN                    NaN   \n",
       "3944                        NaN                   NaN                    NaN   \n",
       "\n",
       "                                 license instant_bookable  \\\n",
       "0                               ET3036ME                f   \n",
       "1                               ET2253ME                f   \n",
       "2                                    NaN                f   \n",
       "3                                    NaN                f   \n",
       "4     Licencia San Jaume Zona 5 APM-1880                f   \n",
       "...                                  ...              ...   \n",
       "3940                          ET 1607 ME                t   \n",
       "3941                           HT 051 ME                t   \n",
       "3942                              ET/184                t   \n",
       "3943                           HT 044 ME                t   \n",
       "3944                            ET1100ME                t   \n",
       "\n",
       "      calculated_host_listings_count_entire_homes  \\\n",
       "0                                               3   \n",
       "1                                               1   \n",
       "2                                               3   \n",
       "3                                               3   \n",
       "4                                               1   \n",
       "...                                           ...   \n",
       "3940                                            8   \n",
       "3941                                            8   \n",
       "3942                                            8   \n",
       "3943                                            8   \n",
       "3944                                            7   \n",
       "\n",
       "      calculated_host_listings_count_private_rooms  \\\n",
       "0                                                0   \n",
       "1                                                0   \n",
       "2                                                0   \n",
       "3                                                0   \n",
       "4                                                0   \n",
       "...                                            ...   \n",
       "3940                                             0   \n",
       "3941                                             0   \n",
       "3942                                             0   \n",
       "3943                                             0   \n",
       "3944                                             0   \n",
       "\n",
       "     calculated_host_listings_count_shared_rooms  reviews_per_month  \n",
       "0                                              0               0.14  \n",
       "1                                              0               0.40  \n",
       "2                                              0               0.10  \n",
       "3                                              0               0.16  \n",
       "4                                              0               0.53  \n",
       "...                                          ...                ...  \n",
       "3940                                           0                NaN  \n",
       "3941                                           0                NaN  \n",
       "3942                                           0                NaN  \n",
       "3943                                           0                NaN  \n",
       "3944                                           0                NaN  \n",
       "\n",
       "[3945 rows x 50 columns]"
      ]
     },
     "execution_count": 19,
     "metadata": {},
     "output_type": "execute_result"
    }
   ],
   "source": [
    "#eliminamos las columnas que no nos interesan\n",
    "data2=data.drop(['listing_url','scrape_id','source','name','description','neighborhood_overview','picture_url','host_url','host_about','host_thumbnail_url','host_picture_url','host_neighbourhood','host_verifications','neighbourhood','neighbourhood_cleansed','neighbourhood_group_cleansed','latitude','longitude','amenities','calendar_updated','availability_60','availability_365','review_scores_communication','review_scores_value','calculated_host_listings_count'], axis=1)\n",
    "data2"
   ]
  },
  {
   "cell_type": "code",
   "execution_count": 20,
   "metadata": {},
   "outputs": [
    {
     "data": {
      "text/plain": [
       "id                                                 0\n",
       "last_scraped                                       0\n",
       "host_id                                            0\n",
       "host_name                                          0\n",
       "host_since                                         0\n",
       "host_location                                   1322\n",
       "host_response_time                               253\n",
       "host_response_rate                               253\n",
       "host_acceptance_rate                             132\n",
       "host_is_superhost                                 25\n",
       "host_listings_count                                0\n",
       "host_total_listings_count                          0\n",
       "host_has_profile_pic                               0\n",
       "host_identity_verified                             0\n",
       "property_type                                      0\n",
       "room_type                                          0\n",
       "accommodates                                       0\n",
       "bathrooms                                        471\n",
       "bathrooms_text                                     6\n",
       "bedrooms                                          12\n",
       "beds                                             471\n",
       "price                                            470\n",
       "minimum_nights                                     0\n",
       "maximum_nights                                     0\n",
       "minimum_minimum_nights                             0\n",
       "maximum_minimum_nights                             0\n",
       "minimum_maximum_nights                             0\n",
       "maximum_maximum_nights                             0\n",
       "minimum_nights_avg_ntm                             0\n",
       "maximum_nights_avg_ntm                             0\n",
       "has_availability                                   9\n",
       "availability_30                                    0\n",
       "availability_90                                    0\n",
       "calendar_last_scraped                              0\n",
       "number_of_reviews                                  0\n",
       "number_of_reviews_ltm                              0\n",
       "number_of_reviews_l30d                             0\n",
       "first_review                                     627\n",
       "last_review                                      627\n",
       "review_scores_rating                             627\n",
       "review_scores_accuracy                           627\n",
       "review_scores_cleanliness                        627\n",
       "review_scores_checkin                            627\n",
       "review_scores_location                           628\n",
       "license                                         1467\n",
       "instant_bookable                                   0\n",
       "calculated_host_listings_count_entire_homes        0\n",
       "calculated_host_listings_count_private_rooms       0\n",
       "calculated_host_listings_count_shared_rooms        0\n",
       "reviews_per_month                                627\n",
       "dtype: int64"
      ]
     },
     "execution_count": 20,
     "metadata": {},
     "output_type": "execute_result"
    }
   ],
   "source": [
    "#identificar la cantidad de nulos por columna\n",
    "valores_nulos=data2.isnull().sum()\n",
    "valores_nulos"
   ]
  },
  {
   "cell_type": "code",
   "execution_count": 21,
   "metadata": {},
   "outputs": [
    {
     "data": {
      "text/plain": [
       "np.int64(28386)"
      ]
     },
     "execution_count": 21,
     "metadata": {},
     "output_type": "execute_result"
    }
   ],
   "source": [
    "#identificar nulos por dataframe \n",
    "valores_nulos=data.isnull().sum().sum()\n",
    "valores_nulos"
   ]
  },
  {
   "cell_type": "code",
   "execution_count": null,
   "metadata": {},
   "outputs": [],
   "source": []
  },
  {
   "cell_type": "code",
   "execution_count": 22,
   "metadata": {},
   "outputs": [],
   "source": [
    "data2[\"reviews_per_month\"]=data2[\"reviews_per_month\"].fillna(round(data[\"reviews_per_month\"].mean(),1))\n",
    "#rellena con el promedio de la columna todos los vacios de la columna"
   ]
  },
  {
   "cell_type": "code",
   "execution_count": 23,
   "metadata": {},
   "outputs": [
    {
     "data": {
      "text/plain": [
       "id                                                 0\n",
       "last_scraped                                       0\n",
       "host_id                                            0\n",
       "host_name                                          0\n",
       "host_since                                         0\n",
       "host_location                                   1322\n",
       "host_response_time                               253\n",
       "host_response_rate                               253\n",
       "host_acceptance_rate                             132\n",
       "host_is_superhost                                 25\n",
       "host_listings_count                                0\n",
       "host_total_listings_count                          0\n",
       "host_has_profile_pic                               0\n",
       "host_identity_verified                             0\n",
       "property_type                                      0\n",
       "room_type                                          0\n",
       "accommodates                                       0\n",
       "bathrooms                                        471\n",
       "bathrooms_text                                     6\n",
       "bedrooms                                          12\n",
       "beds                                             471\n",
       "price                                            470\n",
       "minimum_nights                                     0\n",
       "maximum_nights                                     0\n",
       "minimum_minimum_nights                             0\n",
       "maximum_minimum_nights                             0\n",
       "minimum_maximum_nights                             0\n",
       "maximum_maximum_nights                             0\n",
       "minimum_nights_avg_ntm                             0\n",
       "maximum_nights_avg_ntm                             0\n",
       "has_availability                                   9\n",
       "availability_30                                    0\n",
       "availability_90                                    0\n",
       "calendar_last_scraped                              0\n",
       "number_of_reviews                                  0\n",
       "number_of_reviews_ltm                              0\n",
       "number_of_reviews_l30d                             0\n",
       "first_review                                     627\n",
       "last_review                                      627\n",
       "review_scores_rating                             627\n",
       "review_scores_accuracy                           627\n",
       "review_scores_cleanliness                        627\n",
       "review_scores_checkin                            627\n",
       "review_scores_location                           628\n",
       "license                                         1467\n",
       "instant_bookable                                   0\n",
       "calculated_host_listings_count_entire_homes        0\n",
       "calculated_host_listings_count_private_rooms       0\n",
       "calculated_host_listings_count_shared_rooms        0\n",
       "reviews_per_month                                  0\n",
       "dtype: int64"
      ]
     },
     "execution_count": 23,
     "metadata": {},
     "output_type": "execute_result"
    }
   ],
   "source": [
    "#identificar la cantidad de nulos por columna\n",
    "valores_nulos=data2.isnull().sum()\n",
    "valores_nulos"
   ]
  },
  {
   "cell_type": "code",
   "execution_count": 25,
   "metadata": {},
   "outputs": [],
   "source": [
    "data2[\"beds\"]=data2[\"beds\"].fillna(round(data[\"beds\"].mean(),1))\n",
    "#rellena con el promedio de la columna todos los vacios de la columna"
   ]
  },
  {
   "cell_type": "code",
   "execution_count": 26,
   "metadata": {},
   "outputs": [],
   "source": [
    "data2[\"bathrooms\"]=data2[\"bathrooms\"].fillna(round(data[\"bathrooms\"].mean(),1))\n",
    "#rellena con el promedio de la columna todos los vacios de la columna"
   ]
  },
  {
   "cell_type": "code",
   "execution_count": 29,
   "metadata": {},
   "outputs": [
    {
     "data": {
      "text/plain": [
       "id                                                 0\n",
       "last_scraped                                       0\n",
       "host_id                                            0\n",
       "host_name                                          0\n",
       "host_since                                         0\n",
       "host_location                                   1322\n",
       "host_response_time                               253\n",
       "host_response_rate                               253\n",
       "host_acceptance_rate                             132\n",
       "host_is_superhost                                 25\n",
       "host_listings_count                                0\n",
       "host_total_listings_count                          0\n",
       "host_has_profile_pic                               0\n",
       "host_identity_verified                             0\n",
       "property_type                                      0\n",
       "room_type                                          0\n",
       "accommodates                                       0\n",
       "bathrooms                                          0\n",
       "bathrooms_text                                     6\n",
       "bedrooms                                          12\n",
       "beds                                               0\n",
       "price                                            470\n",
       "minimum_nights                                     0\n",
       "maximum_nights                                     0\n",
       "minimum_minimum_nights                             0\n",
       "maximum_minimum_nights                             0\n",
       "minimum_maximum_nights                             0\n",
       "maximum_maximum_nights                             0\n",
       "minimum_nights_avg_ntm                             0\n",
       "maximum_nights_avg_ntm                             0\n",
       "has_availability                                   9\n",
       "availability_30                                    0\n",
       "availability_90                                    0\n",
       "calendar_last_scraped                              0\n",
       "number_of_reviews                                  0\n",
       "number_of_reviews_ltm                              0\n",
       "number_of_reviews_l30d                             0\n",
       "first_review                                     627\n",
       "last_review                                      627\n",
       "review_scores_rating                             627\n",
       "review_scores_accuracy                           627\n",
       "review_scores_cleanliness                        627\n",
       "review_scores_checkin                            627\n",
       "review_scores_location                           628\n",
       "license                                         1467\n",
       "instant_bookable                                   0\n",
       "calculated_host_listings_count_entire_homes        0\n",
       "calculated_host_listings_count_private_rooms       0\n",
       "calculated_host_listings_count_shared_rooms        0\n",
       "reviews_per_month                                  0\n",
       "dtype: int64"
      ]
     },
     "execution_count": 29,
     "metadata": {},
     "output_type": "execute_result"
    }
   ],
   "source": [
    "#identificar la cantidad de nulos por columna\n",
    "valores_nulos=data2.isnull().sum()\n",
    "valores_nulos"
   ]
  },
  {
   "cell_type": "code",
   "execution_count": null,
   "metadata": {},
   "outputs": [],
   "source": []
  },
  {
   "cell_type": "code",
   "execution_count": 31,
   "metadata": {},
   "outputs": [
    {
     "data": {
      "text/plain": [
       "np.int64(8339)"
      ]
     },
     "execution_count": 31,
     "metadata": {},
     "output_type": "execute_result"
    }
   ],
   "source": [
    "#identificar nulos por dataframe \n",
    "valores_nulos=data2.isnull().sum().sum()\n",
    "valores_nulos"
   ]
  },
  {
   "cell_type": "code",
   "execution_count": 32,
   "metadata": {},
   "outputs": [
    {
     "name": "stderr",
     "output_type": "stream",
     "text": [
      "C:\\Users\\ben31\\AppData\\Local\\Temp\\ipykernel_1516\\1135031775.py:6: FutureWarning: Series.fillna with 'method' is deprecated and will raise in a future version. Use obj.ffill() or obj.bfill() instead.\n",
      "  data2[\"host_location\"]=data2[\"host_location\"].fillna(method=\"ffill\")\n"
     ]
    }
   ],
   "source": [
    "#sustituir vaolres nulos, los rellena hacia adleante\n",
    "#rellena los nulos con el valor     anterior\n",
    "#foward fill(ffill)\n",
    "#filtro por columnas\n",
    "#tanto para variables categoricas como numericas\n",
    "data2[\"host_location\"]=data2[\"host_location\"].fillna(method=\"ffill\")"
   ]
  },
  {
   "cell_type": "code",
   "execution_count": 33,
   "metadata": {},
   "outputs": [
    {
     "name": "stderr",
     "output_type": "stream",
     "text": [
      "C:\\Users\\ben31\\AppData\\Local\\Temp\\ipykernel_1516\\1557432525.py:4: FutureWarning: Series.fillna with 'method' is deprecated and will raise in a future version. Use obj.ffill() or obj.bfill() instead.\n",
      "  data2[\"host_response_time\"]=data2[\"host_response_time\"].fillna(method=\"ffill\")\n"
     ]
    }
   ],
   "source": [
    "#sustituir vaolres nulos, los rellena hacia adleante\n",
    "#rellena los nulos con el valor     anterior\n",
    "#tanto para variables categoricas como numericas\n",
    "data2[\"host_response_time\"]=data2[\"host_response_time\"].fillna(method=\"ffill\")"
   ]
  },
  {
   "cell_type": "code",
   "execution_count": 34,
   "metadata": {},
   "outputs": [
    {
     "name": "stderr",
     "output_type": "stream",
     "text": [
      "C:\\Users\\ben31\\AppData\\Local\\Temp\\ipykernel_1516\\2509889057.py:4: FutureWarning: Series.fillna with 'method' is deprecated and will raise in a future version. Use obj.ffill() or obj.bfill() instead.\n",
      "  data2[\"price\"]=data2[\"price\"].fillna(method=\"ffill\")\n"
     ]
    }
   ],
   "source": [
    "#sustituir vaolres nulos, los rellena hacia adleante\n",
    "#rellena los nulos con el valor     anterior\n",
    "#tanto para variables categoricas como numericas\n",
    "data2[\"price\"]=data2[\"price\"].fillna(method=\"ffill\")"
   ]
  },
  {
   "cell_type": "code",
   "execution_count": 35,
   "metadata": {},
   "outputs": [
    {
     "data": {
      "text/plain": [
       "np.int64(6294)"
      ]
     },
     "execution_count": 35,
     "metadata": {},
     "output_type": "execute_result"
    }
   ],
   "source": [
    "#identificar nulos por dataframe \n",
    "valores_nulos=data2.isnull().sum().sum()\n",
    "valores_nulos"
   ]
  },
  {
   "cell_type": "code",
   "execution_count": 36,
   "metadata": {},
   "outputs": [
    {
     "data": {
      "text/plain": [
       "id                                                 0\n",
       "last_scraped                                       0\n",
       "host_id                                            0\n",
       "host_name                                          0\n",
       "host_since                                         0\n",
       "host_location                                      0\n",
       "host_response_time                                 0\n",
       "host_response_rate                               253\n",
       "host_acceptance_rate                             132\n",
       "host_is_superhost                                 25\n",
       "host_listings_count                                0\n",
       "host_total_listings_count                          0\n",
       "host_has_profile_pic                               0\n",
       "host_identity_verified                             0\n",
       "property_type                                      0\n",
       "room_type                                          0\n",
       "accommodates                                       0\n",
       "bathrooms                                          0\n",
       "bathrooms_text                                     6\n",
       "bedrooms                                          12\n",
       "beds                                               0\n",
       "price                                              0\n",
       "minimum_nights                                     0\n",
       "maximum_nights                                     0\n",
       "minimum_minimum_nights                             0\n",
       "maximum_minimum_nights                             0\n",
       "minimum_maximum_nights                             0\n",
       "maximum_maximum_nights                             0\n",
       "minimum_nights_avg_ntm                             0\n",
       "maximum_nights_avg_ntm                             0\n",
       "has_availability                                   9\n",
       "availability_30                                    0\n",
       "availability_90                                    0\n",
       "calendar_last_scraped                              0\n",
       "number_of_reviews                                  0\n",
       "number_of_reviews_ltm                              0\n",
       "number_of_reviews_l30d                             0\n",
       "first_review                                     627\n",
       "last_review                                      627\n",
       "review_scores_rating                             627\n",
       "review_scores_accuracy                           627\n",
       "review_scores_cleanliness                        627\n",
       "review_scores_checkin                            627\n",
       "review_scores_location                           628\n",
       "license                                         1467\n",
       "instant_bookable                                   0\n",
       "calculated_host_listings_count_entire_homes        0\n",
       "calculated_host_listings_count_private_rooms       0\n",
       "calculated_host_listings_count_shared_rooms        0\n",
       "reviews_per_month                                  0\n",
       "dtype: int64"
      ]
     },
     "execution_count": 36,
     "metadata": {},
     "output_type": "execute_result"
    }
   ],
   "source": [
    "#identificar la cantidad de nulos por columna\n",
    "valores_nulos=data2.isnull().sum()\n",
    "valores_nulos"
   ]
  },
  {
   "cell_type": "code",
   "execution_count": 38,
   "metadata": {},
   "outputs": [],
   "source": [
    "data2[\"review_scores_location\"]=data2[\"review_scores_location\"].fillna(round(data[\"review_scores_location\"].mean(),1))\n",
    "#rellena con el promedio de la columna todos los vacios de la columna"
   ]
  },
  {
   "cell_type": "code",
   "execution_count": 39,
   "metadata": {},
   "outputs": [],
   "source": [
    "data2[\"review_scores_checkin\"]=data2[\"review_scores_checkin\"].fillna(round(data[\"review_scores_checkin\"].mean(),1))\n",
    "#rellena con el promedio de la columna todos los vacios de la columna"
   ]
  },
  {
   "cell_type": "code",
   "execution_count": 40,
   "metadata": {},
   "outputs": [],
   "source": [
    "data2[\"review_scores_cleanliness\"]=data2[\"review_scores_cleanliness\"].fillna(round(data[\"review_scores_cleanliness\"].mean(),1))\n",
    "#rellena con el promedio de la columna todos los vacios de la columna"
   ]
  },
  {
   "cell_type": "code",
   "execution_count": 41,
   "metadata": {},
   "outputs": [],
   "source": [
    "data2[\"review_scores_accuracy\"]=data2[\"review_scores_accuracy\"].fillna(round(data[\"review_scores_accuracy\"].mean(),1))\n",
    "#rellena con el promedio de la columna todos los vacios de la columna"
   ]
  },
  {
   "cell_type": "code",
   "execution_count": 43,
   "metadata": {},
   "outputs": [
    {
     "data": {
      "text/plain": [
       "np.int64(3785)"
      ]
     },
     "execution_count": 43,
     "metadata": {},
     "output_type": "execute_result"
    }
   ],
   "source": [
    "#identificar nulos por dataframe \n",
    "valores_nulos=data2.isnull().sum().sum()\n",
    "valores_nulos"
   ]
  },
  {
   "cell_type": "code",
   "execution_count": 44,
   "metadata": {},
   "outputs": [
    {
     "data": {
      "text/plain": [
       "id                                                 0\n",
       "last_scraped                                       0\n",
       "host_id                                            0\n",
       "host_name                                          0\n",
       "host_since                                         0\n",
       "host_location                                      0\n",
       "host_response_time                                 0\n",
       "host_response_rate                               253\n",
       "host_acceptance_rate                             132\n",
       "host_is_superhost                                 25\n",
       "host_listings_count                                0\n",
       "host_total_listings_count                          0\n",
       "host_has_profile_pic                               0\n",
       "host_identity_verified                             0\n",
       "property_type                                      0\n",
       "room_type                                          0\n",
       "accommodates                                       0\n",
       "bathrooms                                          0\n",
       "bathrooms_text                                     6\n",
       "bedrooms                                          12\n",
       "beds                                               0\n",
       "price                                              0\n",
       "minimum_nights                                     0\n",
       "maximum_nights                                     0\n",
       "minimum_minimum_nights                             0\n",
       "maximum_minimum_nights                             0\n",
       "minimum_maximum_nights                             0\n",
       "maximum_maximum_nights                             0\n",
       "minimum_nights_avg_ntm                             0\n",
       "maximum_nights_avg_ntm                             0\n",
       "has_availability                                   9\n",
       "availability_30                                    0\n",
       "availability_90                                    0\n",
       "calendar_last_scraped                              0\n",
       "number_of_reviews                                  0\n",
       "number_of_reviews_ltm                              0\n",
       "number_of_reviews_l30d                             0\n",
       "first_review                                     627\n",
       "last_review                                      627\n",
       "review_scores_rating                             627\n",
       "review_scores_accuracy                             0\n",
       "review_scores_cleanliness                          0\n",
       "review_scores_checkin                              0\n",
       "review_scores_location                             0\n",
       "license                                         1467\n",
       "instant_bookable                                   0\n",
       "calculated_host_listings_count_entire_homes        0\n",
       "calculated_host_listings_count_private_rooms       0\n",
       "calculated_host_listings_count_shared_rooms        0\n",
       "reviews_per_month                                  0\n",
       "dtype: int64"
      ]
     },
     "execution_count": 44,
     "metadata": {},
     "output_type": "execute_result"
    }
   ],
   "source": [
    "#identificar la cantidad de nulos por columna\n",
    "valores_nulos=data2.isnull().sum()\n",
    "valores_nulos"
   ]
  },
  {
   "cell_type": "code",
   "execution_count": 45,
   "metadata": {},
   "outputs": [
    {
     "name": "stderr",
     "output_type": "stream",
     "text": [
      "C:\\Users\\ben31\\AppData\\Local\\Temp\\ipykernel_1516\\3586509707.py:4: FutureWarning: Series.fillna with 'method' is deprecated and will raise in a future version. Use obj.ffill() or obj.bfill() instead.\n",
      "  data2[\"license\"]=data2[\"license\"].fillna(method=\"ffill\")\n"
     ]
    }
   ],
   "source": [
    "#sustituir vaolres nulos, los rellena hacia adleante\n",
    "#rellena los nulos con el valor     anterior\n",
    "#tanto para variables categoricas como numericas\n",
    "data2[\"license\"]=data2[\"license\"].fillna(method=\"ffill\")"
   ]
  },
  {
   "cell_type": "code",
   "execution_count": 49,
   "metadata": {},
   "outputs": [],
   "source": [
    "data2[\"bedrooms\"]=data2[\"bedrooms\"].fillna(round(data[\"bedrooms\"].mean(),1))\n",
    "#rellena con el promedio de la columna todos los vacios de la columna"
   ]
  },
  {
   "cell_type": "code",
   "execution_count": 51,
   "metadata": {},
   "outputs": [
    {
     "name": "stderr",
     "output_type": "stream",
     "text": [
      "C:\\Users\\ben31\\AppData\\Local\\Temp\\ipykernel_1516\\4258909381.py:4: FutureWarning: Series.fillna with 'method' is deprecated and will raise in a future version. Use obj.ffill() or obj.bfill() instead.\n",
      "  data2[\"bathrooms_text\"]=data2[\"bathrooms_text\"].fillna(method=\"ffill\")\n"
     ]
    }
   ],
   "source": [
    "#sustituir vaolres nulos, los rellena hacia adleante\n",
    "#rellena los nulos con el valor     anterior\n",
    "#tanto para variables categoricas como numericas\n",
    "data2[\"bathrooms_text\"]=data2[\"bathrooms_text\"].fillna(method=\"ffill\")"
   ]
  },
  {
   "cell_type": "code",
   "execution_count": 52,
   "metadata": {},
   "outputs": [
    {
     "data": {
      "text/plain": [
       "id                                                0\n",
       "last_scraped                                      0\n",
       "host_id                                           0\n",
       "host_name                                         0\n",
       "host_since                                        0\n",
       "host_location                                     0\n",
       "host_response_time                                0\n",
       "host_response_rate                              253\n",
       "host_acceptance_rate                            132\n",
       "host_is_superhost                                25\n",
       "host_listings_count                               0\n",
       "host_total_listings_count                         0\n",
       "host_has_profile_pic                              0\n",
       "host_identity_verified                            0\n",
       "property_type                                     0\n",
       "room_type                                         0\n",
       "accommodates                                      0\n",
       "bathrooms                                         0\n",
       "bathrooms_text                                    0\n",
       "bedrooms                                          0\n",
       "beds                                              0\n",
       "price                                             0\n",
       "minimum_nights                                    0\n",
       "maximum_nights                                    0\n",
       "minimum_minimum_nights                            0\n",
       "maximum_minimum_nights                            0\n",
       "minimum_maximum_nights                            0\n",
       "maximum_maximum_nights                            0\n",
       "minimum_nights_avg_ntm                            0\n",
       "maximum_nights_avg_ntm                            0\n",
       "has_availability                                  9\n",
       "availability_30                                   0\n",
       "availability_90                                   0\n",
       "calendar_last_scraped                             0\n",
       "number_of_reviews                                 0\n",
       "number_of_reviews_ltm                             0\n",
       "number_of_reviews_l30d                            0\n",
       "first_review                                    627\n",
       "last_review                                     627\n",
       "review_scores_rating                            627\n",
       "review_scores_accuracy                            0\n",
       "review_scores_cleanliness                         0\n",
       "review_scores_checkin                             0\n",
       "review_scores_location                            0\n",
       "license                                           0\n",
       "instant_bookable                                  0\n",
       "calculated_host_listings_count_entire_homes       0\n",
       "calculated_host_listings_count_private_rooms      0\n",
       "calculated_host_listings_count_shared_rooms       0\n",
       "reviews_per_month                                 0\n",
       "dtype: int64"
      ]
     },
     "execution_count": 52,
     "metadata": {},
     "output_type": "execute_result"
    }
   ],
   "source": [
    "#identificar la cantidad de nulos por columna\n",
    "valores_nulos=data2.isnull().sum()\n",
    "valores_nulos"
   ]
  },
  {
   "cell_type": "code",
   "execution_count": 54,
   "metadata": {},
   "outputs": [],
   "source": [
    "#metodos de susticion por un string en concreto\n",
    "data2[\"host_is_superhost\"]=data2[\"host_is_superhost\"].fillna(\"f\")\n"
   ]
  },
  {
   "cell_type": "code",
   "execution_count": 57,
   "metadata": {},
   "outputs": [],
   "source": [
    "data2[\"review_scores_rating\"]=data2[\"review_scores_rating\"].fillna(round(data[\"review_scores_rating\"].mean(),1))\n",
    "#rellena con el promedio de la columna todos los vacios de la columna"
   ]
  },
  {
   "cell_type": "code",
   "execution_count": 58,
   "metadata": {},
   "outputs": [
    {
     "name": "stderr",
     "output_type": "stream",
     "text": [
      "C:\\Users\\ben31\\AppData\\Local\\Temp\\ipykernel_1516\\1424523949.py:4: FutureWarning: Series.fillna with 'method' is deprecated and will raise in a future version. Use obj.ffill() or obj.bfill() instead.\n",
      "  data2[\"host_response_rate\"]=data2[\"host_response_rate\"].fillna(method=\"ffill\")\n"
     ]
    }
   ],
   "source": [
    "#sustituir vaolres nulos, los rellena hacia adleante\n",
    "#rellena los nulos con el valor     anterior\n",
    "#tanto para variables categoricas como numericas\n",
    "data2[\"host_response_rate\"]=data2[\"host_response_rate\"].fillna(method=\"ffill\")"
   ]
  },
  {
   "cell_type": "code",
   "execution_count": 59,
   "metadata": {},
   "outputs": [
    {
     "name": "stderr",
     "output_type": "stream",
     "text": [
      "C:\\Users\\ben31\\AppData\\Local\\Temp\\ipykernel_1516\\2780493087.py:4: FutureWarning: Series.fillna with 'method' is deprecated and will raise in a future version. Use obj.ffill() or obj.bfill() instead.\n",
      "  data2[\"host_acceptance_rate\"]=data2[\"host_acceptance_rate\"].fillna(method=\"ffill\")\n"
     ]
    }
   ],
   "source": [
    "#sustituir vaolres nulos, los rellena hacia adleante\n",
    "#rellena los nulos con el valor     anterior\n",
    "#tanto para variables categoricas como numericas\n",
    "data2[\"host_acceptance_rate\"]=data2[\"host_acceptance_rate\"].fillna(method=\"ffill\")"
   ]
  },
  {
   "cell_type": "code",
   "execution_count": 60,
   "metadata": {},
   "outputs": [
    {
     "name": "stderr",
     "output_type": "stream",
     "text": [
      "C:\\Users\\ben31\\AppData\\Local\\Temp\\ipykernel_1516\\554266621.py:4: FutureWarning: Series.fillna with 'method' is deprecated and will raise in a future version. Use obj.ffill() or obj.bfill() instead.\n",
      "  data2[\"has_availability\"]=data2[\"has_availability\"].fillna(method=\"ffill\")\n"
     ]
    }
   ],
   "source": [
    "#sustituir vaolres nulos, los rellena hacia adleante\n",
    "#rellena los nulos con el valor     anterior\n",
    "#tanto para variables categoricas como numericas\n",
    "data2[\"has_availability\"]=data2[\"has_availability\"].fillna(method=\"ffill\")"
   ]
  },
  {
   "cell_type": "code",
   "execution_count": 61,
   "metadata": {},
   "outputs": [
    {
     "data": {
      "text/plain": [
       "id                                                0\n",
       "last_scraped                                      0\n",
       "host_id                                           0\n",
       "host_name                                         0\n",
       "host_since                                        0\n",
       "host_location                                     0\n",
       "host_response_time                                0\n",
       "host_response_rate                                0\n",
       "host_acceptance_rate                              0\n",
       "host_is_superhost                                 0\n",
       "host_listings_count                               0\n",
       "host_total_listings_count                         0\n",
       "host_has_profile_pic                              0\n",
       "host_identity_verified                            0\n",
       "property_type                                     0\n",
       "room_type                                         0\n",
       "accommodates                                      0\n",
       "bathrooms                                         0\n",
       "bathrooms_text                                    0\n",
       "bedrooms                                          0\n",
       "beds                                              0\n",
       "price                                             0\n",
       "minimum_nights                                    0\n",
       "maximum_nights                                    0\n",
       "minimum_minimum_nights                            0\n",
       "maximum_minimum_nights                            0\n",
       "minimum_maximum_nights                            0\n",
       "maximum_maximum_nights                            0\n",
       "minimum_nights_avg_ntm                            0\n",
       "maximum_nights_avg_ntm                            0\n",
       "has_availability                                  0\n",
       "availability_30                                   0\n",
       "availability_90                                   0\n",
       "calendar_last_scraped                             0\n",
       "number_of_reviews                                 0\n",
       "number_of_reviews_ltm                             0\n",
       "number_of_reviews_l30d                            0\n",
       "first_review                                    627\n",
       "last_review                                     627\n",
       "review_scores_rating                              0\n",
       "review_scores_accuracy                            0\n",
       "review_scores_cleanliness                         0\n",
       "review_scores_checkin                             0\n",
       "review_scores_location                            0\n",
       "license                                           0\n",
       "instant_bookable                                  0\n",
       "calculated_host_listings_count_entire_homes       0\n",
       "calculated_host_listings_count_private_rooms      0\n",
       "calculated_host_listings_count_shared_rooms       0\n",
       "reviews_per_month                                 0\n",
       "dtype: int64"
      ]
     },
     "execution_count": 61,
     "metadata": {},
     "output_type": "execute_result"
    }
   ],
   "source": [
    "#identificar la cantidad de nulos por columna\n",
    "valores_nulos=data2.isnull().sum()\n",
    "valores_nulos"
   ]
  },
  {
   "cell_type": "code",
   "execution_count": 62,
   "metadata": {},
   "outputs": [
    {
     "name": "stderr",
     "output_type": "stream",
     "text": [
      "C:\\Users\\ben31\\AppData\\Local\\Temp\\ipykernel_1516\\2433753097.py:4: FutureWarning: Series.fillna with 'method' is deprecated and will raise in a future version. Use obj.ffill() or obj.bfill() instead.\n",
      "  data2[\"first_review\"]=data2[\"first_review\"].fillna(method=\"ffill\")\n"
     ]
    }
   ],
   "source": [
    "#sustituir vaolres nulos, los rellena hacia adleante\n",
    "#rellena los nulos con el valor     anterior\n",
    "#tanto para variables categoricas como numericas\n",
    "data2[\"first_review\"]=data2[\"first_review\"].fillna(method=\"ffill\")"
   ]
  },
  {
   "cell_type": "code",
   "execution_count": 70,
   "metadata": {},
   "outputs": [
    {
     "name": "stderr",
     "output_type": "stream",
     "text": [
      "C:\\Users\\ben31\\AppData\\Local\\Temp\\ipykernel_1516\\1557644180.py:4: FutureWarning: Series.fillna with 'method' is deprecated and will raise in a future version. Use obj.ffill() or obj.bfill() instead.\n",
      "  data2[\"last_review\"]=data2[\"last_review\"].fillna(method=\"ffill\")\n"
     ]
    }
   ],
   "source": [
    "#sustituir valores nulos, los rellena hacia atras backward fill\n",
    "#filtro por columnas\n",
    "#tanto para variables categoricas como numericas\n",
    "data2[\"last_review\"]=data2[\"last_review\"].fillna(method=\"ffill\")"
   ]
  },
  {
   "cell_type": "code",
   "execution_count": 71,
   "metadata": {},
   "outputs": [
    {
     "data": {
      "text/plain": [
       "id                                              0\n",
       "last_scraped                                    0\n",
       "host_id                                         0\n",
       "host_name                                       0\n",
       "host_since                                      0\n",
       "host_location                                   0\n",
       "host_response_time                              0\n",
       "host_response_rate                              0\n",
       "host_acceptance_rate                            0\n",
       "host_is_superhost                               0\n",
       "host_listings_count                             0\n",
       "host_total_listings_count                       0\n",
       "host_has_profile_pic                            0\n",
       "host_identity_verified                          0\n",
       "property_type                                   0\n",
       "room_type                                       0\n",
       "accommodates                                    0\n",
       "bathrooms                                       0\n",
       "bathrooms_text                                  0\n",
       "bedrooms                                        0\n",
       "beds                                            0\n",
       "price                                           0\n",
       "minimum_nights                                  0\n",
       "maximum_nights                                  0\n",
       "minimum_minimum_nights                          0\n",
       "maximum_minimum_nights                          0\n",
       "minimum_maximum_nights                          0\n",
       "maximum_maximum_nights                          0\n",
       "minimum_nights_avg_ntm                          0\n",
       "maximum_nights_avg_ntm                          0\n",
       "has_availability                                0\n",
       "availability_30                                 0\n",
       "availability_90                                 0\n",
       "calendar_last_scraped                           0\n",
       "number_of_reviews                               0\n",
       "number_of_reviews_ltm                           0\n",
       "number_of_reviews_l30d                          0\n",
       "first_review                                    0\n",
       "last_review                                     0\n",
       "review_scores_rating                            0\n",
       "review_scores_accuracy                          0\n",
       "review_scores_cleanliness                       0\n",
       "review_scores_checkin                           0\n",
       "review_scores_location                          0\n",
       "license                                         0\n",
       "instant_bookable                                0\n",
       "calculated_host_listings_count_entire_homes     0\n",
       "calculated_host_listings_count_private_rooms    0\n",
       "calculated_host_listings_count_shared_rooms     0\n",
       "reviews_per_month                               0\n",
       "dtype: int64"
      ]
     },
     "execution_count": 71,
     "metadata": {},
     "output_type": "execute_result"
    }
   ],
   "source": [
    "#identificar la cantidad de nulos por columna\n",
    "valores_nulos=data2.isnull().sum()\n",
    "valores_nulos"
   ]
  },
  {
   "cell_type": "code",
   "execution_count": 72,
   "metadata": {},
   "outputs": [
    {
     "data": {
      "text/plain": [
       "np.int64(0)"
      ]
     },
     "execution_count": 72,
     "metadata": {},
     "output_type": "execute_result"
    }
   ],
   "source": [
    "#identificar nulos por dataframe \n",
    "valores_nulos=data2.isnull().sum().sum()\n",
    "valores_nulos"
   ]
  },
  {
   "cell_type": "code",
   "execution_count": 73,
   "metadata": {},
   "outputs": [],
   "source": [
    "data2.to_csv(\"spain_menorca_limpio.csv\")"
   ]
  }
 ],
 "metadata": {
  "kernelspec": {
   "display_name": "Python 3",
   "language": "python",
   "name": "python3"
  },
  "language_info": {
   "codemirror_mode": {
    "name": "ipython",
    "version": 3
   },
   "file_extension": ".py",
   "mimetype": "text/x-python",
   "name": "python",
   "nbconvert_exporter": "python",
   "pygments_lexer": "ipython3",
   "version": "3.13.1"
  }
 },
 "nbformat": 4,
 "nbformat_minor": 2
}
